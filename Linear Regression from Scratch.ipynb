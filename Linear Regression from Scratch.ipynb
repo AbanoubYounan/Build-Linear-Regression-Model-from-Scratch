{
 "cells": [
  {
   "cell_type": "code",
   "execution_count": 1,
   "id": "d0e87ce0",
   "metadata": {},
   "outputs": [],
   "source": [
    "import pandas as pd\n",
    "import numpy as np\n",
    "import matplotlib.pyplot as plt\n",
    "np.random.seed(3)"
   ]
  },
  {
   "cell_type": "code",
   "execution_count": 2,
   "id": "6b9a9656",
   "metadata": {},
   "outputs": [
    {
     "data": {
      "text/html": [
       "<div>\n",
       "<style scoped>\n",
       "    .dataframe tbody tr th:only-of-type {\n",
       "        vertical-align: middle;\n",
       "    }\n",
       "\n",
       "    .dataframe tbody tr th {\n",
       "        vertical-align: top;\n",
       "    }\n",
       "\n",
       "    .dataframe thead th {\n",
       "        text-align: right;\n",
       "    }\n",
       "</style>\n",
       "<table border=\"1\" class=\"dataframe\">\n",
       "  <thead>\n",
       "    <tr style=\"text-align: right;\">\n",
       "      <th></th>\n",
       "      <th>TV</th>\n",
       "      <th>Sales</th>\n",
       "    </tr>\n",
       "  </thead>\n",
       "  <tbody>\n",
       "    <tr>\n",
       "      <th>0</th>\n",
       "      <td>230.1</td>\n",
       "      <td>22.1</td>\n",
       "    </tr>\n",
       "    <tr>\n",
       "      <th>1</th>\n",
       "      <td>44.5</td>\n",
       "      <td>10.4</td>\n",
       "    </tr>\n",
       "    <tr>\n",
       "      <th>2</th>\n",
       "      <td>17.2</td>\n",
       "      <td>9.3</td>\n",
       "    </tr>\n",
       "    <tr>\n",
       "      <th>3</th>\n",
       "      <td>151.5</td>\n",
       "      <td>18.5</td>\n",
       "    </tr>\n",
       "    <tr>\n",
       "      <th>4</th>\n",
       "      <td>180.8</td>\n",
       "      <td>12.9</td>\n",
       "    </tr>\n",
       "  </tbody>\n",
       "</table>\n",
       "</div>"
      ],
      "text/plain": [
       "      TV  Sales\n",
       "0  230.1   22.1\n",
       "1   44.5   10.4\n",
       "2   17.2    9.3\n",
       "3  151.5   18.5\n",
       "4  180.8   12.9"
      ]
     },
     "execution_count": 2,
     "metadata": {},
     "output_type": "execute_result"
    }
   ],
   "source": [
    "#Load the Data for Single Linear Regression\n",
    "df_simple = pd.read_csv('tvmarketing.csv')\n",
    "df_simple.head()"
   ]
  },
  {
   "cell_type": "code",
   "execution_count": 3,
   "id": "e1b930e1",
   "metadata": {},
   "outputs": [
    {
     "data": {
      "text/plain": [
       "(200, 2)"
      ]
     },
     "execution_count": 3,
     "metadata": {},
     "output_type": "execute_result"
    }
   ],
   "source": [
    "df_simple.shape"
   ]
  },
  {
   "cell_type": "code",
   "execution_count": 4,
   "id": "eef8e4de",
   "metadata": {},
   "outputs": [
    {
     "data": {
      "text/plain": [
       "<AxesSubplot:xlabel='TV', ylabel='Sales'>"
      ]
     },
     "execution_count": 4,
     "metadata": {},
     "output_type": "execute_result"
    },
    {
     "data": {
      "image/png": "[encoded data removed]",
      "text/plain": [
       "<Figure size 432x288 with 1 Axes>"
      ]
     },
     "metadata": {
      "needs_background": "light"
     },
     "output_type": "display_data"
    }
   ],
   "source": [
    "df_simple.plot(x='TV', y='Sales', kind='scatter', c='black')"
   ]
  },
  {
   "cell_type": "code",
   "execution_count": 5,
   "id": "ec053e36",
   "metadata": {},
   "outputs": [],
   "source": [
    "df_simple_norm = (df_simple - df_simple.mean())/df_simple.std()"
   ]
  },
  {
   "cell_type": "code",
   "execution_count": 6,
   "id": "6a49b96d",
   "metadata": {},
   "outputs": [
    {
     "data": {
      "text/plain": [
       "<AxesSubplot:xlabel='TV', ylabel='Sales'>"
      ]
     },
     "execution_count": 6,
     "metadata": {},
     "output_type": "execute_result"
    },
    {
     "data": {
      "image/png": "[encoded data removed]",
      "text/plain": [
       "<Figure size 432x288 with 1 Axes>"
      ]
     },
     "metadata": {
      "needs_background": "light"
     },
     "output_type": "display_data"
    }
   ],
   "source": [
    "df_simple_norm.plot(x='TV', y='Sales', kind='scatter', c='black')"
   ]
  },
  {
   "cell_type": "code",
   "execution_count": 7,
   "id": "92c0f661",
   "metadata": {},
   "outputs": [],
   "source": [
    "X_norm = df_simple_norm['TV']\n",
    "Y_norm = df_simple_norm['Sales']\n",
    "X_norm = np.array(X_norm).reshape((1, len(X_norm)))\n",
    "Y_norm = np.array(Y_norm).reshape((1,len(Y_norm)))"
   ]
  },
  {
   "cell_type": "code",
   "execution_count": 8,
   "id": "707d8caf",
   "metadata": {},
   "outputs": [],
   "source": [
    "def layer_sizes(X, Y):\n",
    "    n_x = X.shape[0]\n",
    "    n_y = Y.shape[0]\n",
    "    \n",
    "    return (n_x, n_y)"
   ]
  },
  {
   "cell_type": "code",
   "execution_count": 9,
   "id": "7a57d0c9",
   "metadata": {},
   "outputs": [
    {
     "name": "stdout",
     "output_type": "stream",
     "text": [
      "1 1\n"
     ]
    }
   ],
   "source": [
    "(n_x, n_y) = layer_sizes(X_norm, Y_norm)\n",
    "print(n_x,n_y)"
   ]
  },
  {
   "cell_type": "code",
   "execution_count": 10,
   "id": "8f6b34f9",
   "metadata": {},
   "outputs": [],
   "source": [
    "def initialize_parameters(n_x,n_y):\n",
    "    \n",
    "    W = np.random.randn(n_y,n_x) * 0.01\n",
    "    b = np.zeros((n_y,1))\n",
    "    \n",
    "    parameters = {'W': W, 'b': b}\n",
    "    return parameters"
   ]
  },
  {
   "cell_type": "code",
   "execution_count": 11,
   "id": "2f48ab23",
   "metadata": {},
   "outputs": [
    {
     "data": {
      "text/plain": [
       "{'W': array([[0.01788628]]), 'b': array([[0.]])}"
      ]
     },
     "execution_count": 11,
     "metadata": {},
     "output_type": "execute_result"
    }
   ],
   "source": [
    "parameters = initialize_parameters(1,1)\n",
    "parameters"
   ]
  },
  {
   "cell_type": "code",
   "execution_count": 12,
   "id": "c951b890",
   "metadata": {},
   "outputs": [],
   "source": [
    "def forward_propegation(X,paramaters):\n",
    "    W = paramaters['W']\n",
    "    b = paramaters['b']\n",
    "    Z = np.matmul(W,X) + b\n",
    "    return Z"
   ]
  },
  {
   "cell_type": "code",
   "execution_count": 13,
   "id": "00adcfb2",
   "metadata": {},
   "outputs": [
    {
     "name": "stdout",
     "output_type": "stream",
     "text": [
      "[ 0.01730363 -0.021363   -0.0270505   0.00092865  0.00703281]\n"
     ]
    }
   ],
   "source": [
    "Y_predict = forward_propegation(X_norm,parameters)\n",
    "print(Y_predict[0,:5])"
   ]
  },
  {
   "cell_type": "code",
   "execution_count": 14,
   "id": "4a2cdac8",
   "metadata": {},
   "outputs": [],
   "source": [
    "def cost_function(Y,Y_predict):\n",
    "    m = Y.shape[1]\n",
    "    cost =  np.sum((Y-Y_predict)**2)/(2*m)\n",
    "    return cost"
   ]
  },
  {
   "cell_type": "code",
   "execution_count": 15,
   "id": "d6a741ac",
   "metadata": {},
   "outputs": [
    {
     "data": {
      "text/plain": [
       "0.48373802644758923"
      ]
     },
     "execution_count": 15,
     "metadata": {},
     "output_type": "execute_result"
    }
   ],
   "source": [
    "cost_function(Y_norm,Y_predict)"
   ]
  },
  {
   "cell_type": "code",
   "execution_count": 16,
   "id": "eddf8acf",
   "metadata": {},
   "outputs": [],
   "source": [
    "def back_propegation(Y,Y_predict,X):\n",
    "    m = Y.shape[1]\n",
    "    dZ= (Y_predict-Y)\n",
    "    dW = 1/m * np.dot(dZ,X.T)\n",
    "    db = 1/m * np.sum(dZ, axis = 1, keepdims = True)\n",
    "    \n",
    "    grads = {'dW':dW, 'db':db}\n",
    "    return grads"
   ]
  },
  {
   "cell_type": "code",
   "execution_count": 17,
   "id": "a18cd546",
   "metadata": {},
   "outputs": [
    {
     "data": {
      "text/plain": [
       "{'dW': array([[-0.76051645]]), 'db': array([[5.10702591e-16]])}"
      ]
     },
     "execution_count": 17,
     "metadata": {},
     "output_type": "execute_result"
    }
   ],
   "source": [
    "grads = back_propegation(Y_norm,Y_predict,X_norm)\n",
    "grads"
   ]
  },
  {
   "cell_type": "code",
   "execution_count": 18,
   "id": "739f80c2",
   "metadata": {},
   "outputs": [],
   "source": [
    "def update_parameters(learning_rate,grads,parameters):\n",
    "    W = parameters['W']\n",
    "    b = parameters['b']\n",
    "    \n",
    "    dW = grads['dW']\n",
    "    db = grads['db']\n",
    "    \n",
    "    W = W - (learning_rate * dW)\n",
    "    b = b - (learning_rate * db)\n",
    "    \n",
    "    parameters ={'W':W, 'b':b}\n",
    "    return parameters"
   ]
  },
  {
   "cell_type": "code",
   "execution_count": 19,
   "id": "d113cfff",
   "metadata": {},
   "outputs": [
    {
     "data": {
      "text/plain": [
       "{'W': array([[0.02549145]]), 'b': array([[-5.10702591e-18]])}"
      ]
     },
     "execution_count": 19,
     "metadata": {},
     "output_type": "execute_result"
    }
   ],
   "source": [
    "parameters = update_parameters(0.01,grads, parameters)\n",
    "parameters"
   ]
  },
  {
   "cell_type": "code",
   "execution_count": 22,
   "id": "95c28da8",
   "metadata": {},
   "outputs": [],
   "source": [
    "def linear_regression(n_x,n_y,X,Y,learning_rate, number_of_iteration):\n",
    "    parameters = initialize_parameters(n_x,n_y)\n",
    "    \n",
    "    for i in range(number_of_iteration):\n",
    "        Y_predict = forward_propegation(X,parameters)\n",
    "        print('cost in iteration #', i+1, '=', cost_function(Y, Y_predict))\n",
    "        grads = back_propegation(Y,Y_predict,X)\n",
    "        parameters = update_parameters(0.01,grads, parameters)"
   ]
  },
  {
   "cell_type": "code",
   "execution_count": 23,
   "id": "acd9fd1c",
   "metadata": {},
   "outputs": [
    {
     "name": "stdout",
     "output_type": "stream",
     "text": [
      "cost in iteration # 1 = 0.49674941062931793\n",
      "cost in iteration # 2 = 0.4907366942123535\n",
      "cost in iteration # 3 = 0.48484303557812963\n",
      "cost in iteration # 4 = 0.47906607726378786\n",
      "cost in iteration # 5 = 0.47340350848658597\n",
      "cost in iteration # 6 = 0.467853064219585\n",
      "cost in iteration # 7 = 0.46241252428563884\n",
      "cost in iteration # 8 = 0.45707971246932344\n",
      "cost in iteration # 9 = 0.45185249564645086\n",
      "cost in iteration # 10 = 0.4467287829308199\n",
      "cost in iteration # 11 = 0.4417065248378618\n",
      "cost in iteration # 12 = 0.4367837124648469\n",
      "cost in iteration # 13 = 0.4319583766873228\n",
      "cost in iteration # 14 = 0.42722858737146624\n",
      "cost in iteration # 15 = 0.42259245260202855\n",
      "cost in iteration # 16 = 0.41804811792557006\n",
      "cost in iteration # 17 = 0.4135937656086793\n",
      "cost in iteration # 18 = 0.4092276139108795\n",
      "cost in iteration # 19 = 0.4049479163719323\n",
      "cost in iteration # 20 = 0.4007529611132547\n",
      "cost in iteration # 21 = 0.3966410701531667\n",
      "cost in iteration # 22 = 0.3926105987356997\n",
      "cost in iteration # 23 = 0.3886599346726938\n",
      "cost in iteration # 24 = 0.38478749769892273\n",
      "cost in iteration # 25 = 0.3809917388399883\n",
      "cost in iteration # 26 = 0.3772711397927303\n",
      "cost in iteration # 27 = 0.3736242123179055\n",
      "cost in iteration # 28 = 0.37004949764489226\n",
      "cost in iteration # 29 = 0.3665455658881827\n",
      "cost in iteration # 30 = 0.36311101547542785\n",
      "cost in iteration # 31 = 0.3597444725868097\n",
      "cost in iteration # 32 = 0.35644459060551253\n",
      "cost in iteration # 33 = 0.3532100495790775\n",
      "cost in iteration # 34 = 0.3500395556914204\n",
      "cost in iteration # 35 = 0.3469318407453067\n",
      "cost in iteration # 36 = 0.3438856616550716\n",
      "cost in iteration # 37 = 0.34089979994938685\n",
      "cost in iteration # 38 = 0.3379730612838718\n",
      "cost in iteration # 39 = 0.33510427496335565\n",
      "cost in iteration # 40 = 0.3322922934736001\n",
      "cost in iteration # 41 = 0.3295359920222933\n",
      "cost in iteration # 42 = 0.32683426808913296\n",
      "cost in iteration # 43 = 0.32418604098481885\n",
      "cost in iteration # 44 = 0.3215902514187768\n",
      "cost in iteration # 45 = 0.3190458610754424\n",
      "cost in iteration # 46 = 0.3165518521989354\n",
      "cost in iteration # 47 = 0.31410722718595707\n",
      "cost in iteration # 48 = 0.31171100818674913\n",
      "cost in iteration # 49 = 0.3093622367139541\n",
      "cost in iteration # 50 = 0.30705997325921985\n",
      "cost in iteration # 51 = 0.3048032969173971\n",
      "cost in iteration # 52 = 0.3025913050181772\n",
      "cost in iteration # 53 = 0.30042311276502365\n",
      "cost in iteration # 54 = 0.2982978528812544\n",
      "cost in iteration # 55 = 0.29621467526313056\n",
      "cost in iteration # 56 = 0.29417274663981513\n",
      "cost in iteration # 57 = 0.29217125024006513\n",
      "cost in iteration # 58 = 0.2902093854655229\n",
      "cost in iteration # 59 = 0.28828636757047676\n",
      "cost in iteration # 60 = 0.28640142734796276\n",
      "cost in iteration # 61 = 0.28455381082208253\n",
      "cost in iteration # 62 = 0.28274277894641225\n",
      "cost in iteration # 63 = 0.28096760730838444\n",
      "cost in iteration # 64 = 0.2792275858395233\n",
      "cost in iteration # 65 = 0.277522018531417\n",
      "cost in iteration # 66 = 0.27585022315731467\n",
      "cost in iteration # 67 = 0.2742115309992354\n",
      "cost in iteration # 68 = 0.27260528658048155\n",
      "cost in iteration # 69 = 0.27103084740344785\n",
      "cost in iteration # 70 = 0.26948758369262243\n",
      "cost in iteration # 71 = 0.26797487814267695\n",
      "cost in iteration # 72 = 0.26649212567154423\n",
      "cost in iteration # 73 = 0.26503873317838544\n",
      "cost in iteration # 74 = 0.26361411930635026\n",
      "cost in iteration # 75 = 0.2622177142100337\n",
      "cost in iteration # 76 = 0.26084895932753827\n",
      "cost in iteration # 77 = 0.2595073071570492\n",
      "cost in iteration # 78 = 0.25819222103783396\n",
      "cost in iteration # 79 = 0.2569031749355775\n",
      "cost in iteration # 80 = 0.25563965323196924\n",
      "cost in iteration # 81 = 0.25440115051845535\n",
      "cost in iteration # 82 = 0.2531871713940755\n",
      "cost in iteration # 83 = 0.2519972302673025\n",
      "cost in iteration # 84 = 0.2508308511618058\n",
      "cost in iteration # 85 = 0.24968756752606125\n",
      "cost in iteration # 86 = 0.24856692204672984\n",
      "cost in iteration # 87 = 0.24746846646573303\n",
      "cost in iteration # 88 = 0.2463917614009494\n",
      "cost in iteration # 89 = 0.24533637617046175\n",
      "cost in iteration # 90 = 0.2443018886202846\n",
      "cost in iteration # 91 = 0.24328788495550221\n",
      "cost in iteration # 92 = 0.2422939595747512\n",
      "cost in iteration # 93 = 0.24131971490797963\n",
      "cost in iteration # 94 = 0.24036476125741918\n",
      "cost in iteration # 95 = 0.2394287166417061\n",
      "cost in iteration # 96 = 0.23851120664308867\n",
      "cost in iteration # 97 = 0.23761186425766\n",
      "cost in iteration # 98 = 0.23673032974855693\n",
      "cost in iteration # 99 = 0.23586625050206475\n",
      "cost in iteration # 100 = 0.2350192808865722\n"
     ]
    }
   ],
   "source": [
    "linear_regression(1,1,X_norm,Y_norm,1.2, 100)"
   ]
  },
  {
   "cell_type": "code",
   "execution_count": null,
   "id": "441741dd",
   "metadata": {},
   "outputs": [],
   "source": []
  }
 ],
 "metadata": {
  "kernelspec": {
   "display_name": "Python 3 (ipykernel)",
   "language": "python",
   "name": "python3"
  },
  "language_info": {
   "codemirror_mode": {
    "name": "ipython",
    "version": 3
   },
   "file_extension": ".py",
   "mimetype": "text/x-python",
   "name": "python",
   "nbconvert_exporter": "python",
   "pygments_lexer": "ipython3",
   "version": "3.9.12"
  }
 },
 "nbformat": 4,
 "nbformat_minor": 5
}
