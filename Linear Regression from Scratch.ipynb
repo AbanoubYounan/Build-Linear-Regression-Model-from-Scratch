{
 "cells": [
  {
   "cell_type": "code",
   "execution_count": 1,
   "id": "d0e87ce0",
   "metadata": {},
   "outputs": [
    {
     "name": "stderr",
     "output_type": "stream",
     "text": [
      "C:\\Users\\AY7\\anaconda3\\lib\\site-packages\\scipy\\__init__.py:146: UserWarning: A NumPy version >=1.16.5 and <1.23.0 is required for this version of SciPy (detected version 1.24.1\n",
      "  warnings.warn(f\"A NumPy version >={np_minversion} and <{np_maxversion}\"\n"
     ]
    }
   ],
   "source": [
    "import pandas as pd\n",
    "import numpy as np\n",
    "import matplotlib.pyplot as plt\n",
    "import seaborn as sns\n",
    "np.random.seed(3)"
   ]
  },
  {
   "cell_type": "code",
   "execution_count": 2,
   "id": "6b9a9656",
   "metadata": {},
   "outputs": [
    {
     "data": {
      "text/html": [
       "<div>\n",
       "<style scoped>\n",
       "    .dataframe tbody tr th:only-of-type {\n",
       "        vertical-align: middle;\n",
       "    }\n",
       "\n",
       "    .dataframe tbody tr th {\n",
       "        vertical-align: top;\n",
       "    }\n",
       "\n",
       "    .dataframe thead th {\n",
       "        text-align: right;\n",
       "    }\n",
       "</style>\n",
       "<table border=\"1\" class=\"dataframe\">\n",
       "  <thead>\n",
       "    <tr style=\"text-align: right;\">\n",
       "      <th></th>\n",
       "      <th>TV</th>\n",
       "      <th>Sales</th>\n",
       "    </tr>\n",
       "  </thead>\n",
       "  <tbody>\n",
       "    <tr>\n",
       "      <th>0</th>\n",
       "      <td>230.1</td>\n",
       "      <td>22.1</td>\n",
       "    </tr>\n",
       "    <tr>\n",
       "      <th>1</th>\n",
       "      <td>44.5</td>\n",
       "      <td>10.4</td>\n",
       "    </tr>\n",
       "    <tr>\n",
       "      <th>2</th>\n",
       "      <td>17.2</td>\n",
       "      <td>9.3</td>\n",
       "    </tr>\n",
       "    <tr>\n",
       "      <th>3</th>\n",
       "      <td>151.5</td>\n",
       "      <td>18.5</td>\n",
       "    </tr>\n",
       "    <tr>\n",
       "      <th>4</th>\n",
       "      <td>180.8</td>\n",
       "      <td>12.9</td>\n",
       "    </tr>\n",
       "  </tbody>\n",
       "</table>\n",
       "</div>"
      ],
      "text/plain": [
       "      TV  Sales\n",
       "0  230.1   22.1\n",
       "1   44.5   10.4\n",
       "2   17.2    9.3\n",
       "3  151.5   18.5\n",
       "4  180.8   12.9"
      ]
     },
     "execution_count": 2,
     "metadata": {},
     "output_type": "execute_result"
    }
   ],
   "source": [
    "#Load the Data for Single Linear Regression\n",
    "df_simple = pd.read_csv('tvmarketing.csv')\n",
    "df_simple.head()"
   ]
  },
  {
   "cell_type": "code",
   "execution_count": 3,
   "id": "e1b930e1",
   "metadata": {},
   "outputs": [
    {
     "data": {
      "text/plain": [
       "(200, 2)"
      ]
     },
     "execution_count": 3,
     "metadata": {},
     "output_type": "execute_result"
    }
   ],
   "source": [
    "df_simple.shape"
   ]
  },
  {
   "cell_type": "code",
   "execution_count": 4,
   "id": "eef8e4de",
   "metadata": {},
   "outputs": [
    {
     "data": {
      "text/plain": [
       "<AxesSubplot:xlabel='TV', ylabel='Sales'>"
      ]
     },
     "execution_count": 4,
     "metadata": {},
     "output_type": "execute_result"
    },
    {
     "data": {
      "image/png": "[encoded data removed]",
      "text/plain": [
       "<Figure size 432x288 with 1 Axes>"
      ]
     },
     "metadata": {
      "needs_background": "light"
     },
     "output_type": "display_data"
    }
   ],
   "source": [
    "df_simple.plot(x='TV', y='Sales', kind='scatter', c='black')"
   ]
  },
  {
   "cell_type": "code",
   "execution_count": 5,
   "id": "ec053e36",
   "metadata": {},
   "outputs": [],
   "source": [
    "df_simple_norm = (df_simple - df_simple.mean())/df_simple.std()"
   ]
  },
  {
   "cell_type": "code",
   "execution_count": 6,
   "id": "6a49b96d",
   "metadata": {},
   "outputs": [
    {
     "data": {
      "text/plain": [
       "<AxesSubplot:xlabel='TV', ylabel='Sales'>"
      ]
     },
     "execution_count": 6,
     "metadata": {},
     "output_type": "execute_result"
    },
    {
     "data": {
      "image/png": "[encoded data removed]",
      "text/plain": [
       "<Figure size 432x288 with 1 Axes>"
      ]
     },
     "metadata": {
      "needs_background": "light"
     },
     "output_type": "display_data"
    }
   ],
   "source": [
    "df_simple_norm.plot(x='TV', y='Sales', kind='scatter', c='black')"
   ]
  },
  {
   "cell_type": "code",
   "execution_count": 7,
   "id": "92c0f661",
   "metadata": {},
   "outputs": [],
   "source": [
    "X_norm = df_simple_norm['TV']\n",
    "Y_norm = df_simple_norm['Sales']\n",
    "X_norm = np.array(X_norm).reshape((1, len(X_norm)))\n",
    "Y_norm = np.array(Y_norm).reshape((1,len(Y_norm)))"
   ]
  },
  {
   "cell_type": "code",
   "execution_count": 8,
   "id": "707d8caf",
   "metadata": {},
   "outputs": [],
   "source": [
    "def layer_sizes(X, Y):\n",
    "    n_x = X.shape[0]\n",
    "    n_y = Y.shape[0]\n",
    "    \n",
    "    return (n_x, n_y)"
   ]
  },
  {
   "cell_type": "code",
   "execution_count": 9,
   "id": "7a57d0c9",
   "metadata": {},
   "outputs": [
    {
     "name": "stdout",
     "output_type": "stream",
     "text": [
      "1 1\n"
     ]
    }
   ],
   "source": [
    "(n_x, n_y) = layer_sizes(X_norm, Y_norm)\n",
    "print(n_x,n_y)"
   ]
  },
  {
   "cell_type": "code",
   "execution_count": 10,
   "id": "8f6b34f9",
   "metadata": {},
   "outputs": [],
   "source": [
    "def initialize_parameters(n_x,n_y):\n",
    "    \n",
    "    W = np.random.randn(n_y,n_x) * 0.01\n",
    "    b = np.zeros((n_y,1))\n",
    "    \n",
    "    parameters = {'W': W, 'b': b}\n",
    "    return parameters"
   ]
  },
  {
   "cell_type": "code",
   "execution_count": 11,
   "id": "2f48ab23",
   "metadata": {},
   "outputs": [
    {
     "data": {
      "text/plain": [
       "{'W': array([[0.01788628]]), 'b': array([[0.]])}"
      ]
     },
     "execution_count": 11,
     "metadata": {},
     "output_type": "execute_result"
    }
   ],
   "source": [
    "parameters = initialize_parameters(1,1)\n",
    "parameters"
   ]
  },
  {
   "cell_type": "code",
   "execution_count": 12,
   "id": "c951b890",
   "metadata": {},
   "outputs": [],
   "source": [
    "def forward_propegation(X,paramaters):\n",
    "    W = paramaters['W']\n",
    "    b = paramaters['b']\n",
    "    Z = np.matmul(W,X) + b\n",
    "    return Z"
   ]
  },
  {
   "cell_type": "code",
   "execution_count": 13,
   "id": "00adcfb2",
   "metadata": {},
   "outputs": [
    {
     "name": "stdout",
     "output_type": "stream",
     "text": [
      "[ 0.01730363 -0.021363   -0.0270505   0.00092865  0.00703281]\n"
     ]
    }
   ],
   "source": [
    "Y_predict = forward_propegation(X_norm,parameters)\n",
    "print(Y_predict[0,:5])"
   ]
  },
  {
   "cell_type": "code",
   "execution_count": 14,
   "id": "7ead970a",
   "metadata": {},
   "outputs": [
    {
     "data": {
      "image/png": "[encoded data removed]",
      "text/plain": [
       "<Figure size 432x288 with 1 Axes>"
      ]
     },
     "metadata": {
      "needs_background": "light"
     },
     "output_type": "display_data"
    }
   ],
   "source": [
    "plt.scatter(x=X_norm, y=Y_norm)\n",
    "plt.plot(X_norm[0],Y_predict[0])\n",
    "plt.show()"
   ]
  },
  {
   "cell_type": "code",
   "execution_count": 15,
   "id": "4a2cdac8",
   "metadata": {},
   "outputs": [],
   "source": [
    "def cost_function(Y,Y_predict):\n",
    "    m = Y.shape[1]\n",
    "    cost =  np.sum((Y-Y_predict)**2)/(2*m)\n",
    "    return cost"
   ]
  },
  {
   "cell_type": "code",
   "execution_count": 16,
   "id": "d6a741ac",
   "metadata": {},
   "outputs": [
    {
     "data": {
      "text/plain": [
       "0.48373802644758923"
      ]
     },
     "execution_count": 16,
     "metadata": {},
     "output_type": "execute_result"
    }
   ],
   "source": [
    "cost_function(Y_norm,Y_predict)"
   ]
  },
  {
   "cell_type": "code",
   "execution_count": 17,
   "id": "eddf8acf",
   "metadata": {},
   "outputs": [],
   "source": [
    "def back_propegation(Y,Y_predict,X):\n",
    "    m = Y.shape[1]\n",
    "    dZ= (Y_predict-Y)\n",
    "    dW = 1/m * np.dot(dZ,X.T)\n",
    "    db = 1/m * np.sum(dZ, axis = 1, keepdims = True)\n",
    "    \n",
    "    grads = {'dW':dW, 'db':db}\n",
    "    return grads"
   ]
  },
  {
   "cell_type": "code",
   "execution_count": 18,
   "id": "a18cd546",
   "metadata": {},
   "outputs": [
    {
     "data": {
      "text/plain": [
       "{'dW': array([[-0.76051645]]), 'db': array([[5.10702591e-16]])}"
      ]
     },
     "execution_count": 18,
     "metadata": {},
     "output_type": "execute_result"
    }
   ],
   "source": [
    "grads = back_propegation(Y_norm,Y_predict,X_norm)\n",
    "grads"
   ]
  },
  {
   "cell_type": "code",
   "execution_count": 19,
   "id": "739f80c2",
   "metadata": {},
   "outputs": [],
   "source": [
    "def update_parameters(grads,parameters,learning_rate=1.2):\n",
    "    W = parameters['W']\n",
    "    b = parameters['b']\n",
    "    \n",
    "    dW = grads['dW']\n",
    "    db = grads['db']\n",
    "    \n",
    "    W = W - (learning_rate * dW)\n",
    "    b = b - (learning_rate * db)\n",
    "    parameters ={'W':W, 'b':b}\n",
    "    return parameters"
   ]
  },
  {
   "cell_type": "code",
   "execution_count": 20,
   "id": "d113cfff",
   "metadata": {},
   "outputs": [
    {
     "data": {
      "text/plain": [
       "{'W': array([[0.93050602]]), 'b': array([[-6.1284311e-16]])}"
      ]
     },
     "execution_count": 20,
     "metadata": {},
     "output_type": "execute_result"
    }
   ],
   "source": [
    "parameters = update_parameters(grads, parameters)\n",
    "parameters"
   ]
  },
  {
   "cell_type": "code",
   "execution_count": 36,
   "id": "95c28da8",
   "metadata": {},
   "outputs": [],
   "source": [
    "def linear_regression(X,Y,learning_rate = 1.2, number_of_iteration = 100):\n",
    "    n_x,n_y = layer_sizes(X, Y)\n",
    "    parameters = initialize_parameters(n_x,n_y)\n",
    "    print('init para',parameters)\n",
    "    for i in range(number_of_iteration):\n",
    "        Y_predict = forward_propegation(X,parameters)\n",
    "        print('cost in iteration #', i+1, '=', cost_function(Y, Y_predict))\n",
    "        grads = back_propegation(Y,Y_predict,X)\n",
    "        parameters = update_parameters(grads, parameters,learning_rate)\n",
    "    return parameters"
   ]
  },
  {
   "cell_type": "code",
   "execution_count": 22,
   "id": "acd9fd1c",
   "metadata": {},
   "outputs": [
    {
     "name": "stdout",
     "output_type": "stream",
     "text": [
      "cost in iteration # 1 = 0.494112065172974\n",
      "cost in iteration # 2 = 0.20442134727030178\n",
      "cost in iteration # 3 = 0.193518547411317\n",
      "cost in iteration # 4 = 0.19310820963582423\n",
      "cost in iteration # 5 = 0.19309276616330578\n",
      "cost in iteration # 6 = 0.19309218493277405\n",
      "cost in iteration # 7 = 0.19309216305758178\n",
      "cost in iteration # 8 = 0.19309216223428705\n",
      "cost in iteration # 9 = 0.19309216220330153\n",
      "cost in iteration # 10 = 0.19309216220213535\n",
      "cost in iteration # 11 = 0.19309216220209147\n",
      "cost in iteration # 12 = 0.1930921622020898\n",
      "cost in iteration # 13 = 0.19309216220208975\n",
      "cost in iteration # 14 = 0.19309216220208975\n",
      "cost in iteration # 15 = 0.19309216220208975\n",
      "cost in iteration # 16 = 0.19309216220208975\n",
      "cost in iteration # 17 = 0.19309216220208975\n",
      "cost in iteration # 18 = 0.19309216220208975\n",
      "cost in iteration # 19 = 0.19309216220208975\n",
      "cost in iteration # 20 = 0.19309216220208975\n",
      "cost in iteration # 21 = 0.19309216220208975\n",
      "cost in iteration # 22 = 0.19309216220208975\n",
      "cost in iteration # 23 = 0.19309216220208977\n",
      "cost in iteration # 24 = 0.19309216220208975\n",
      "cost in iteration # 25 = 0.19309216220208975\n",
      "cost in iteration # 26 = 0.19309216220208975\n",
      "cost in iteration # 27 = 0.19309216220208975\n",
      "cost in iteration # 28 = 0.19309216220208975\n",
      "cost in iteration # 29 = 0.19309216220208975\n",
      "cost in iteration # 30 = 0.19309216220208975\n"
     ]
    }
   ],
   "source": [
    "paramaters = linear_regression(X_norm,Y_norm,1.2, 30)"
   ]
  },
  {
   "cell_type": "code",
   "execution_count": 23,
   "id": "8868caa8",
   "metadata": {},
   "outputs": [
    {
     "name": "stdout",
     "output_type": "stream",
     "text": [
      "{'W': array([[0.78222442]]), 'b': array([[-5.80868686e-16]])}\n"
     ]
    }
   ],
   "source": [
    "print(paramaters)"
   ]
  },
  {
   "cell_type": "markdown",
   "id": "ca65572d",
   "metadata": {},
   "source": [
    "# Multiple Linear Regression:"
   ]
  },
  {
   "cell_type": "code",
   "execution_count": 39,
   "id": "1a878fe1",
   "metadata": {},
   "outputs": [
    {
     "name": "stdout",
     "output_type": "stream",
     "text": [
      "<class 'pandas.core.frame.DataFrame'>\n",
      "RangeIndex: 1460 entries, 0 to 1459\n",
      "Data columns (total 81 columns):\n",
      " #   Column         Non-Null Count  Dtype  \n",
      "---  ------         --------------  -----  \n",
      " 0   Id             1460 non-null   int64  \n",
      " 1   MSSubClass     1460 non-null   int64  \n",
      " 2   MSZoning       1460 non-null   object \n",
      " 3   LotFrontage    1201 non-null   float64\n",
      " 4   LotArea        1460 non-null   int64  \n",
      " 5   Street         1460 non-null   object \n",
      " 6   Alley          91 non-null     object \n",
      " 7   LotShape       1460 non-null   object \n",
      " 8   LandContour    1460 non-null   object \n",
      " 9   Utilities      1460 non-null   object \n",
      " 10  LotConfig      1460 non-null   object \n",
      " 11  LandSlope      1460 non-null   object \n",
      " 12  Neighborhood   1460 non-null   object \n",
      " 13  Condition1     1460 non-null   object \n",
      " 14  Condition2     1460 non-null   object \n",
      " 15  BldgType       1460 non-null   object \n",
      " 16  HouseStyle     1460 non-null   object \n",
      " 17  OverallQual    1460 non-null   int64  \n",
      " 18  OverallCond    1460 non-null   int64  \n",
      " 19  YearBuilt      1460 non-null   int64  \n",
      " 20  YearRemodAdd   1460 non-null   int64  \n",
      " 21  RoofStyle      1460 non-null   object \n",
      " 22  RoofMatl       1460 non-null   object \n",
      " 23  Exterior1st    1460 non-null   object \n",
      " 24  Exterior2nd    1460 non-null   object \n",
      " 25  MasVnrType     1452 non-null   object \n",
      " 26  MasVnrArea     1452 non-null   float64\n",
      " 27  ExterQual      1460 non-null   object \n",
      " 28  ExterCond      1460 non-null   object \n",
      " 29  Foundation     1460 non-null   object \n",
      " 30  BsmtQual       1423 non-null   object \n",
      " 31  BsmtCond       1423 non-null   object \n",
      " 32  BsmtExposure   1422 non-null   object \n",
      " 33  BsmtFinType1   1423 non-null   object \n",
      " 34  BsmtFinSF1     1460 non-null   int64  \n",
      " 35  BsmtFinType2   1422 non-null   object \n",
      " 36  BsmtFinSF2     1460 non-null   int64  \n",
      " 37  BsmtUnfSF      1460 non-null   int64  \n",
      " 38  TotalBsmtSF    1460 non-null   int64  \n",
      " 39  Heating        1460 non-null   object \n",
      " 40  HeatingQC      1460 non-null   object \n",
      " 41  CentralAir     1460 non-null   object \n",
      " 42  Electrical     1459 non-null   object \n",
      " 43  1stFlrSF       1460 non-null   int64  \n",
      " 44  2ndFlrSF       1460 non-null   int64  \n",
      " 45  LowQualFinSF   1460 non-null   int64  \n",
      " 46  GrLivArea      1460 non-null   int64  \n",
      " 47  BsmtFullBath   1460 non-null   int64  \n",
      " 48  BsmtHalfBath   1460 non-null   int64  \n",
      " 49  FullBath       1460 non-null   int64  \n",
      " 50  HalfBath       1460 non-null   int64  \n",
      " 51  BedroomAbvGr   1460 non-null   int64  \n",
      " 52  KitchenAbvGr   1460 non-null   int64  \n",
      " 53  KitchenQual    1460 non-null   object \n",
      " 54  TotRmsAbvGrd   1460 non-null   int64  \n",
      " 55  Functional     1460 non-null   object \n",
      " 56  Fireplaces     1460 non-null   int64  \n",
      " 57  FireplaceQu    770 non-null    object \n",
      " 58  GarageType     1379 non-null   object \n",
      " 59  GarageYrBlt    1379 non-null   float64\n",
      " 60  GarageFinish   1379 non-null   object \n",
      " 61  GarageCars     1460 non-null   int64  \n",
      " 62  GarageArea     1460 non-null   int64  \n",
      " 63  GarageQual     1379 non-null   object \n",
      " 64  GarageCond     1379 non-null   object \n",
      " 65  PavedDrive     1460 non-null   object \n",
      " 66  WoodDeckSF     1460 non-null   int64  \n",
      " 67  OpenPorchSF    1460 non-null   int64  \n",
      " 68  EnclosedPorch  1460 non-null   int64  \n",
      " 69  3SsnPorch      1460 non-null   int64  \n",
      " 70  ScreenPorch    1460 non-null   int64  \n",
      " 71  PoolArea       1460 non-null   int64  \n",
      " 72  PoolQC         7 non-null      object \n",
      " 73  Fence          281 non-null    object \n",
      " 74  MiscFeature    54 non-null     object \n",
      " 75  MiscVal        1460 non-null   int64  \n",
      " 76  MoSold         1460 non-null   int64  \n",
      " 77  YrSold         1460 non-null   int64  \n",
      " 78  SaleType       1460 non-null   object \n",
      " 79  SaleCondition  1460 non-null   object \n",
      " 80  SalePrice      1460 non-null   int64  \n",
      "dtypes: float64(3), int64(35), object(43)\n",
      "memory usage: 924.0+ KB\n"
     ]
    }
   ],
   "source": [
    "df_house = pd.read_csv('houseprice.csv')\n",
    "df_house.info()"
   ]
  },
  {
   "cell_type": "code",
   "execution_count": 40,
   "id": "df5d9f24",
   "metadata": {},
   "outputs": [
    {
     "data": {
      "text/html": [
       "<div>\n",
       "<style scoped>\n",
       "    .dataframe tbody tr th:only-of-type {\n",
       "        vertical-align: middle;\n",
       "    }\n",
       "\n",
       "    .dataframe tbody tr th {\n",
       "        vertical-align: top;\n",
       "    }\n",
       "\n",
       "    .dataframe thead th {\n",
       "        text-align: right;\n",
       "    }\n",
       "</style>\n",
       "<table border=\"1\" class=\"dataframe\">\n",
       "  <thead>\n",
       "    <tr style=\"text-align: right;\">\n",
       "      <th></th>\n",
       "      <th>Id</th>\n",
       "      <th>MSSubClass</th>\n",
       "      <th>MSZoning</th>\n",
       "      <th>LotFrontage</th>\n",
       "      <th>LotArea</th>\n",
       "      <th>Street</th>\n",
       "      <th>Alley</th>\n",
       "      <th>LotShape</th>\n",
       "      <th>LandContour</th>\n",
       "      <th>Utilities</th>\n",
       "      <th>...</th>\n",
       "      <th>PoolArea</th>\n",
       "      <th>PoolQC</th>\n",
       "      <th>Fence</th>\n",
       "      <th>MiscFeature</th>\n",
       "      <th>MiscVal</th>\n",
       "      <th>MoSold</th>\n",
       "      <th>YrSold</th>\n",
       "      <th>SaleType</th>\n",
       "      <th>SaleCondition</th>\n",
       "      <th>SalePrice</th>\n",
       "    </tr>\n",
       "  </thead>\n",
       "  <tbody>\n",
       "    <tr>\n",
       "      <th>0</th>\n",
       "      <td>1</td>\n",
       "      <td>60</td>\n",
       "      <td>RL</td>\n",
       "      <td>65.0</td>\n",
       "      <td>8450</td>\n",
       "      <td>Pave</td>\n",
       "      <td>NaN</td>\n",
       "      <td>Reg</td>\n",
       "      <td>Lvl</td>\n",
       "      <td>AllPub</td>\n",
       "      <td>...</td>\n",
       "      <td>0</td>\n",
       "      <td>NaN</td>\n",
       "      <td>NaN</td>\n",
       "      <td>NaN</td>\n",
       "      <td>0</td>\n",
       "      <td>2</td>\n",
       "      <td>2008</td>\n",
       "      <td>WD</td>\n",
       "      <td>Normal</td>\n",
       "      <td>208500</td>\n",
       "    </tr>\n",
       "    <tr>\n",
       "      <th>1</th>\n",
       "      <td>2</td>\n",
       "      <td>20</td>\n",
       "      <td>RL</td>\n",
       "      <td>80.0</td>\n",
       "      <td>9600</td>\n",
       "      <td>Pave</td>\n",
       "      <td>NaN</td>\n",
       "      <td>Reg</td>\n",
       "      <td>Lvl</td>\n",
       "      <td>AllPub</td>\n",
       "      <td>...</td>\n",
       "      <td>0</td>\n",
       "      <td>NaN</td>\n",
       "      <td>NaN</td>\n",
       "      <td>NaN</td>\n",
       "      <td>0</td>\n",
       "      <td>5</td>\n",
       "      <td>2007</td>\n",
       "      <td>WD</td>\n",
       "      <td>Normal</td>\n",
       "      <td>181500</td>\n",
       "    </tr>\n",
       "    <tr>\n",
       "      <th>2</th>\n",
       "      <td>3</td>\n",
       "      <td>60</td>\n",
       "      <td>RL</td>\n",
       "      <td>68.0</td>\n",
       "      <td>11250</td>\n",
       "      <td>Pave</td>\n",
       "      <td>NaN</td>\n",
       "      <td>IR1</td>\n",
       "      <td>Lvl</td>\n",
       "      <td>AllPub</td>\n",
       "      <td>...</td>\n",
       "      <td>0</td>\n",
       "      <td>NaN</td>\n",
       "      <td>NaN</td>\n",
       "      <td>NaN</td>\n",
       "      <td>0</td>\n",
       "      <td>9</td>\n",
       "      <td>2008</td>\n",
       "      <td>WD</td>\n",
       "      <td>Normal</td>\n",
       "      <td>223500</td>\n",
       "    </tr>\n",
       "    <tr>\n",
       "      <th>3</th>\n",
       "      <td>4</td>\n",
       "      <td>70</td>\n",
       "      <td>RL</td>\n",
       "      <td>60.0</td>\n",
       "      <td>9550</td>\n",
       "      <td>Pave</td>\n",
       "      <td>NaN</td>\n",
       "      <td>IR1</td>\n",
       "      <td>Lvl</td>\n",
       "      <td>AllPub</td>\n",
       "      <td>...</td>\n",
       "      <td>0</td>\n",
       "      <td>NaN</td>\n",
       "      <td>NaN</td>\n",
       "      <td>NaN</td>\n",
       "      <td>0</td>\n",
       "      <td>2</td>\n",
       "      <td>2006</td>\n",
       "      <td>WD</td>\n",
       "      <td>Abnorml</td>\n",
       "      <td>140000</td>\n",
       "    </tr>\n",
       "    <tr>\n",
       "      <th>4</th>\n",
       "      <td>5</td>\n",
       "      <td>60</td>\n",
       "      <td>RL</td>\n",
       "      <td>84.0</td>\n",
       "      <td>14260</td>\n",
       "      <td>Pave</td>\n",
       "      <td>NaN</td>\n",
       "      <td>IR1</td>\n",
       "      <td>Lvl</td>\n",
       "      <td>AllPub</td>\n",
       "      <td>...</td>\n",
       "      <td>0</td>\n",
       "      <td>NaN</td>\n",
       "      <td>NaN</td>\n",
       "      <td>NaN</td>\n",
       "      <td>0</td>\n",
       "      <td>12</td>\n",
       "      <td>2008</td>\n",
       "      <td>WD</td>\n",
       "      <td>Normal</td>\n",
       "      <td>250000</td>\n",
       "    </tr>\n",
       "  </tbody>\n",
       "</table>\n",
       "<p>5 rows × 81 columns</p>\n",
       "</div>"
      ],
      "text/plain": [
       "   Id  MSSubClass MSZoning  LotFrontage  LotArea Street Alley LotShape  \\\n",
       "0   1          60       RL         65.0     8450   Pave   NaN      Reg   \n",
       "1   2          20       RL         80.0     9600   Pave   NaN      Reg   \n",
       "2   3          60       RL         68.0    11250   Pave   NaN      IR1   \n",
       "3   4          70       RL         60.0     9550   Pave   NaN      IR1   \n",
       "4   5          60       RL         84.0    14260   Pave   NaN      IR1   \n",
       "\n",
       "  LandContour Utilities  ... PoolArea PoolQC Fence MiscFeature MiscVal MoSold  \\\n",
       "0         Lvl    AllPub  ...        0    NaN   NaN         NaN       0      2   \n",
       "1         Lvl    AllPub  ...        0    NaN   NaN         NaN       0      5   \n",
       "2         Lvl    AllPub  ...        0    NaN   NaN         NaN       0      9   \n",
       "3         Lvl    AllPub  ...        0    NaN   NaN         NaN       0      2   \n",
       "4         Lvl    AllPub  ...        0    NaN   NaN         NaN       0     12   \n",
       "\n",
       "  YrSold  SaleType  SaleCondition  SalePrice  \n",
       "0   2008        WD         Normal     208500  \n",
       "1   2007        WD         Normal     181500  \n",
       "2   2008        WD         Normal     223500  \n",
       "3   2006        WD        Abnorml     140000  \n",
       "4   2008        WD         Normal     250000  \n",
       "\n",
       "[5 rows x 81 columns]"
      ]
     },
     "execution_count": 40,
     "metadata": {},
     "output_type": "execute_result"
    }
   ],
   "source": [
    "df_house.head()"
   ]
  },
  {
   "cell_type": "code",
   "execution_count": 41,
   "id": "b3617ecf",
   "metadata": {},
   "outputs": [
    {
     "data": {
      "text/plain": [
       "<seaborn.axisgrid.PairGrid at 0x1d1dc380580>"
      ]
     },
     "execution_count": 41,
     "metadata": {},
     "output_type": "execute_result"
    },
    {
     "data": {
      "image/png": "[encoded data removed]",
      "text/plain": [
       "<Figure size 720x720 with 20 Axes>"
      ]
     },
     "metadata": {
      "needs_background": "light"
     },
     "output_type": "display_data"
    }
   ],
   "source": [
    "sns.pairplot(df_house[['GrLivArea', 'OverallQual','OverallCond','SalePrice']])"
   ]
  },
  {
   "cell_type": "code",
   "execution_count": 42,
   "id": "a7f6d31e",
   "metadata": {},
   "outputs": [],
   "source": [
    "df_house0 = df_house[['GrLivArea', 'OverallQual','SalePrice']]\n",
    "X_house = df_house0[['GrLivArea', 'OverallQual']]\n",
    "Y_house = df_house0['SalePrice']"
   ]
  },
  {
   "cell_type": "code",
   "execution_count": 43,
   "id": "eeaab77e",
   "metadata": {},
   "outputs": [
    {
     "name": "stdout",
     "output_type": "stream",
     "text": [
      "X shape: (1460, 2)\n",
      "Y shape: (1460,)\n"
     ]
    }
   ],
   "source": [
    "print('X shape:',X_house.shape)\n",
    "print('Y shape:', Y_house.shape)"
   ]
  },
  {
   "cell_type": "code",
   "execution_count": 44,
   "id": "e9bc4923",
   "metadata": {},
   "outputs": [],
   "source": [
    "X_house_norm = (X_house - X_house.mean()) / X_house.std()\n",
    "Y_house_norm = (Y_house - Y_house.mean()) / Y_house.std()"
   ]
  },
  {
   "cell_type": "code",
   "execution_count": 45,
   "id": "0a6fe164",
   "metadata": {},
   "outputs": [
    {
     "data": {
      "image/png": "[encoded data removed]",
      "text/plain": [
       "<Figure size 432x288 with 1 Axes>"
      ]
     },
     "metadata": {
      "needs_background": "light"
     },
     "output_type": "display_data"
    }
   ],
   "source": [
    "plt.scatter(x=X_house_norm['GrLivArea'], y=Y_house_norm)\n",
    "plt.show()"
   ]
  },
  {
   "cell_type": "code",
   "execution_count": 46,
   "id": "2fd62b7e",
   "metadata": {},
   "outputs": [
    {
     "data": {
      "image/png": "[encoded data removed]",
      "text/plain": [
       "<Figure size 432x288 with 1 Axes>"
      ]
     },
     "metadata": {
      "needs_background": "light"
     },
     "output_type": "display_data"
    }
   ],
   "source": [
    "plt.scatter(x=X_house_norm['OverallQual'], y=Y_house_norm)\n",
    "plt.show()"
   ]
  },
  {
   "cell_type": "code",
   "execution_count": 47,
   "id": "67535ba8",
   "metadata": {},
   "outputs": [],
   "source": [
    "X_house_norm = np.array(X_house_norm).T\n",
    "Y_house_norm = np.array(Y_house_norm).reshape((1,Y_house_norm.shape[0]))"
   ]
  },
  {
   "cell_type": "code",
   "execution_count": 48,
   "id": "37c5f9e6",
   "metadata": {},
   "outputs": [
    {
     "name": "stdout",
     "output_type": "stream",
     "text": [
      "X shape: (2, 1460)\n",
      "Y shape: (1, 1460)\n"
     ]
    }
   ],
   "source": [
    "print('X shape:',X_house_norm.shape)\n",
    "print('Y shape:', Y_house_norm.shape)"
   ]
  },
  {
   "cell_type": "code",
   "execution_count": 49,
   "id": "48a9f4d7",
   "metadata": {},
   "outputs": [
    {
     "name": "stdout",
     "output_type": "stream",
     "text": [
      "init para {'W': array([[-0.00082741, -0.00627001]]), 'b': array([[0.]])}\n",
      "cost in iteration # 1 = 0.5052225815991552\n",
      "cost in iteration # 2 = 0.44063498053984335\n",
      "cost in iteration # 3 = 0.38895029920982244\n",
      "cost in iteration # 4 = 0.3466030961677919\n",
      "cost in iteration # 5 = 0.31163836438654674\n",
      "cost in iteration # 6 = 0.2826980460268086\n",
      "cost in iteration # 7 = 0.2587254461270528\n",
      "cost in iteration # 8 = 0.23886293240699683\n",
      "cost in iteration # 9 = 0.22240454760147496\n",
      "cost in iteration # 10 = 0.20876653943297024\n",
      "cost in iteration # 11 = 0.1974655082096149\n",
      "cost in iteration # 12 = 0.1881009719182724\n",
      "cost in iteration # 13 = 0.18034109524980427\n",
      "cost in iteration # 14 = 0.17391091024888425\n",
      "cost in iteration # 15 = 0.16858256752558887\n",
      "cost in iteration # 16 = 0.16416726114246133\n",
      "cost in iteration # 17 = 0.16050853804190132\n",
      "cost in iteration # 18 = 0.15747675415237267\n",
      "cost in iteration # 19 = 0.1549644805237418\n",
      "cost in iteration # 20 = 0.15288269665765686\n",
      "cost in iteration # 21 = 0.15115763613238575\n",
      "cost in iteration # 22 = 0.14972817274552672\n",
      "cost in iteration # 23 = 0.14854365455358354\n",
      "cost in iteration # 24 = 0.14756210905899717\n",
      "cost in iteration # 25 = 0.1467487559467388\n",
      "cost in iteration # 26 = 0.14607477467040553\n",
      "cost in iteration # 27 = 0.145516283218167\n",
      "cost in iteration # 28 = 0.1450534918719142\n",
      "cost in iteration # 29 = 0.14467000197371063\n",
      "cost in iteration # 30 = 0.14435222485187166\n",
      "cost in iteration # 31 = 0.14408890031676067\n",
      "cost in iteration # 32 = 0.1438706976645679\n",
      "cost in iteration # 33 = 0.14368988505094688\n",
      "cost in iteration # 34 = 0.14354005551901444\n",
      "cost in iteration # 35 = 0.14341589997372628\n",
      "cost in iteration # 36 = 0.14331301905814853\n",
      "cost in iteration # 37 = 0.1432277672656043\n",
      "cost in iteration # 38 = 0.14315712376392872\n",
      "cost in iteration # 39 = 0.14309858535458797\n",
      "cost in iteration # 40 = 0.1430500777737508\n",
      "cost in iteration # 41 = 0.14300988219233393\n",
      "cost in iteration # 42 = 0.1429765743106058\n",
      "cost in iteration # 43 = 0.14294897388921346\n",
      "cost in iteration # 44 = 0.1429261029283024\n",
      "cost in iteration # 45 = 0.14290715101283852\n",
      "cost in iteration # 46 = 0.1428914465961703\n",
      "cost in iteration # 47 = 0.142878433204286\n",
      "cost in iteration # 48 = 0.14286764971758215\n",
      "cost in iteration # 49 = 0.1428587140314423\n",
      "cost in iteration # 50 = 0.142851309516652\n",
      "cost in iteration # 51 = 0.14284517379988426\n",
      "cost in iteration # 52 = 0.142840089466701\n",
      "cost in iteration # 53 = 0.14283587635763867\n",
      "cost in iteration # 54 = 0.14283238518439495\n",
      "cost in iteration # 55 = 0.14282949223991218\n",
      "cost in iteration # 56 = 0.14282709501491178\n",
      "cost in iteration # 57 = 0.1428251085655565\n",
      "cost in iteration # 58 = 0.14282346250353048\n",
      "cost in iteration # 59 = 0.14282209850188288\n",
      "cost in iteration # 60 = 0.1428209682282569\n",
      "cost in iteration # 61 = 0.1428200316322698\n",
      "cost in iteration # 62 = 0.14281925552635802\n",
      "cost in iteration # 63 = 0.14281861240980123\n",
      "cost in iteration # 64 = 0.14281807949425543\n",
      "cost in iteration # 65 = 0.14281763789626517\n",
      "cost in iteration # 66 = 0.14281727196814292\n",
      "cost in iteration # 67 = 0.14281696874350508\n",
      "cost in iteration # 68 = 0.1428167174778182\n",
      "cost in iteration # 69 = 0.14281650926767456\n",
      "cost in iteration # 70 = 0.14281633673530672\n",
      "cost in iteration # 71 = 0.14281619376716198\n",
      "cost in iteration # 72 = 0.14281607529727328\n",
      "cost in iteration # 73 = 0.1428159771277506\n",
      "cost in iteration # 74 = 0.1428158957800319\n",
      "cost in iteration # 75 = 0.14281582837162285\n",
      "cost in iteration # 76 = 0.14281577251395802\n",
      "cost in iteration # 77 = 0.1428157262277636\n",
      "cost in iteration # 78 = 0.14281568787292376\n",
      "cost in iteration # 79 = 0.14281565609036398\n",
      "cost in iteration # 80 = 0.14281562975389353\n",
      "cost in iteration # 81 = 0.14281560793029968\n",
      "cost in iteration # 82 = 0.14281558984628007\n",
      "cost in iteration # 83 = 0.14281557486104127\n",
      "cost in iteration # 84 = 0.14281556244359278\n",
      "cost in iteration # 85 = 0.14281555215393182\n",
      "cost in iteration # 86 = 0.14281554362745205\n",
      "cost in iteration # 87 = 0.14281553656202425\n",
      "cost in iteration # 88 = 0.14281553070729033\n",
      "cost in iteration # 89 = 0.14281552585579227\n",
      "cost in iteration # 90 = 0.14281552183562093\n",
      "cost in iteration # 91 = 0.1428155185043247\n",
      "cost in iteration # 92 = 0.1428155157438615\n",
      "cost in iteration # 93 = 0.14281551345641652\n",
      "cost in iteration # 94 = 0.1428155115609359\n",
      "cost in iteration # 95 = 0.14281550999025464\n",
      "cost in iteration # 96 = 0.14281550868871695\n",
      "cost in iteration # 97 = 0.14281550761020376\n",
      "cost in iteration # 98 = 0.14281550671649884\n",
      "cost in iteration # 99 = 0.1428155059759344\n",
      "cost in iteration # 100 = 0.1428155053622691\n",
      "{'W': array([[0.36946698, 0.57182233]]), 'b': array([[1.01471343e-16]])}\n"
     ]
    }
   ],
   "source": [
    "print(linear_regression(X_house_norm,Y_house_norm,1.2, 100))"
   ]
  },
  {
   "cell_type": "code",
   "execution_count": null,
   "id": "c7344d67",
   "metadata": {},
   "outputs": [],
   "source": []
  }
 ],
 "metadata": {
  "kernelspec": {
   "display_name": "Python 3 (ipykernel)",
   "language": "python",
   "name": "python3"
  },
  "language_info": {
   "codemirror_mode": {
    "name": "ipython",
    "version": 3
   },
   "file_extension": ".py",
   "mimetype": "text/x-python",
   "name": "python",
   "nbconvert_exporter": "python",
   "pygments_lexer": "ipython3",
   "version": "3.9.12"
  }
 },
 "nbformat": 4,
 "nbformat_minor": 5
}
